{
 "cells": [
  {
   "cell_type": "code",
   "execution_count": 11,
   "id": "70c26e68-4bd4-4bf4-a838-1395f26f764a",
   "metadata": {},
   "outputs": [],
   "source": [
    "import openai"
   ]
  },
  {
   "cell_type": "code",
   "execution_count": 12,
   "id": "552bc3ee-6449-4e7d-b685-195e51d13af8",
   "metadata": {},
   "outputs": [],
   "source": [
    "from openai import OpenAI"
   ]
  },
  {
   "cell_type": "code",
   "execution_count": 13,
   "id": "481bf0e5-2565-49bd-b189-8631e89b464b",
   "metadata": {},
   "outputs": [],
   "source": [
    "client = OpenAI()"
   ]
  },
  {
   "cell_type": "code",
   "execution_count": 14,
   "id": "6504a796-d7d1-4283-9d95-0c796bec4b90",
   "metadata": {},
   "outputs": [],
   "source": [
    "import os"
   ]
  },
  {
   "cell_type": "code",
   "execution_count": null,
   "id": "13da77b7-17d8-41ec-90a7-329a1289d09f",
   "metadata": {},
   "outputs": [],
   "source": []
  },
  {
   "cell_type": "code",
   "execution_count": 15,
   "id": "423e3f85-2c3b-46e0-9d48-cccc7c537c40",
   "metadata": {},
   "outputs": [],
   "source": [
    "response=client.chat.completions.create(model='gpt-3.5-turbo',messages=[{\"role\":\"user\",\"content\":\"is it too late to join this course?\"}])"
   ]
  },
  {
   "cell_type": "code",
   "execution_count": 16,
   "id": "4e744545-5d7d-4a99-b640-182f75f8c252",
   "metadata": {},
   "outputs": [
    {
     "data": {
      "text/plain": [
       "ChatCompletion(id='chatcmpl-9fFtwrAKTOmWiNBVbNMrhzMjUACgw', choices=[Choice(finish_reason='stop', index=0, logprobs=None, message=ChatCompletionMessage(content='It depends on the specific course and its schedule. You should reach out to the course instructor or program administrator to inquire about enrollment deadlines and availability.', role='assistant', function_call=None, tool_calls=None))], created=1719619600, model='gpt-3.5-turbo-0125', object='chat.completion', service_tier=None, system_fingerprint=None, usage=CompletionUsage(completion_tokens=29, prompt_tokens=16, total_tokens=45))"
      ]
     },
     "execution_count": 16,
     "metadata": {},
     "output_type": "execute_result"
    }
   ],
   "source": [
    "response"
   ]
  },
  {
   "cell_type": "raw",
   "id": "7a9139d4-5045-4ba1-a8ee-2f22d5ad1484",
   "metadata": {},
   "source": []
  },
  {
   "cell_type": "code",
   "execution_count": 17,
   "id": "2c4e287f-3aa4-4d5c-b3a3-f0539522986f",
   "metadata": {},
   "outputs": [
    {
     "data": {
      "text/plain": [
       "'It depends on the specific course and its schedule. You should reach out to the course instructor or program administrator to inquire about enrollment deadlines and availability.'"
      ]
     },
     "execution_count": 17,
     "metadata": {},
     "output_type": "execute_result"
    }
   ],
   "source": [
    "response.choices[0].message.content"
   ]
  },
  {
   "cell_type": "code",
   "execution_count": null,
   "id": "9583028f-767b-4354-b9ba-34def16338c1",
   "metadata": {},
   "outputs": [],
   "source": []
  },
  {
   "cell_type": "code",
   "execution_count": null,
   "id": "b34e99bf-cc14-4407-84bf-9a0d65e1b62f",
   "metadata": {},
   "outputs": [],
   "source": []
  }
 ],
 "metadata": {
  "kernelspec": {
   "display_name": "Python 3 (ipykernel)",
   "language": "python",
   "name": "python3"
  },
  "language_info": {
   "codemirror_mode": {
    "name": "ipython",
    "version": 3
   },
   "file_extension": ".py",
   "mimetype": "text/x-python",
   "name": "python",
   "nbconvert_exporter": "python",
   "pygments_lexer": "ipython3",
   "version": "3.10.13"
  }
 },
 "nbformat": 4,
 "nbformat_minor": 5
}
